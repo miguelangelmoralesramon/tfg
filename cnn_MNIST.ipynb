{
  "nbformat": 4,
  "nbformat_minor": 0,
  "metadata": {
    "colab": {
      "provenance": []
    },
    "kernelspec": {
      "name": "python3",
      "display_name": "Python 3"
    },
    "language_info": {
      "name": "python"
    }
  },
  "cells": [
    {
      "cell_type": "code",
      "execution_count": null,
      "metadata": {
        "id": "4sJnKGnue1oO",
        "colab": {
          "base_uri": "https://localhost:8080/"
        },
        "outputId": "20b54df6-b309-4f85-e81b-73c493540b02"
      },
      "outputs": [
        {
          "output_type": "stream",
          "name": "stdout",
          "text": [
            "Downloading http://yann.lecun.com/exdb/mnist/train-images-idx3-ubyte.gz\n",
            "Downloading http://yann.lecun.com/exdb/mnist/train-images-idx3-ubyte.gz to ./MNIST/raw/train-images-idx3-ubyte.gz\n"
          ]
        },
        {
          "output_type": "stream",
          "name": "stderr",
          "text": [
            "100%|██████████| 9912422/9912422 [00:00<00:00, 104274520.69it/s]\n"
          ]
        },
        {
          "output_type": "stream",
          "name": "stdout",
          "text": [
            "Extracting ./MNIST/raw/train-images-idx3-ubyte.gz to ./MNIST/raw\n",
            "\n",
            "Downloading http://yann.lecun.com/exdb/mnist/train-labels-idx1-ubyte.gz\n",
            "Downloading http://yann.lecun.com/exdb/mnist/train-labels-idx1-ubyte.gz to ./MNIST/raw/train-labels-idx1-ubyte.gz\n"
          ]
        },
        {
          "output_type": "stream",
          "name": "stderr",
          "text": [
            "100%|██████████| 28881/28881 [00:00<00:00, 32063444.63it/s]"
          ]
        },
        {
          "output_type": "stream",
          "name": "stdout",
          "text": [
            "Extracting ./MNIST/raw/train-labels-idx1-ubyte.gz to ./MNIST/raw\n",
            "\n",
            "Downloading http://yann.lecun.com/exdb/mnist/t10k-images-idx3-ubyte.gz\n",
            "Downloading http://yann.lecun.com/exdb/mnist/t10k-images-idx3-ubyte.gz to ./MNIST/raw/t10k-images-idx3-ubyte.gz\n"
          ]
        },
        {
          "output_type": "stream",
          "name": "stderr",
          "text": [
            "\n",
            "100%|██████████| 1648877/1648877 [00:00<00:00, 28835437.78it/s]\n"
          ]
        },
        {
          "output_type": "stream",
          "name": "stdout",
          "text": [
            "Extracting ./MNIST/raw/t10k-images-idx3-ubyte.gz to ./MNIST/raw\n",
            "\n",
            "Downloading http://yann.lecun.com/exdb/mnist/t10k-labels-idx1-ubyte.gz\n",
            "Downloading http://yann.lecun.com/exdb/mnist/t10k-labels-idx1-ubyte.gz to ./MNIST/raw/t10k-labels-idx1-ubyte.gz\n"
          ]
        },
        {
          "output_type": "stream",
          "name": "stderr",
          "text": [
            "100%|██████████| 4542/4542 [00:00<00:00, 7019354.74it/s]\n"
          ]
        },
        {
          "output_type": "stream",
          "name": "stdout",
          "text": [
            "Extracting ./MNIST/raw/t10k-labels-idx1-ubyte.gz to ./MNIST/raw\n",
            "\n"
          ]
        }
      ],
      "source": [
        "import torch\n",
        "import torchvision\n",
        "from torchvision import transforms\n",
        "\n",
        "image_path = './'\n",
        "transform = transforms.Compose([transforms.ToTensor()])\n",
        "mnist_dataset = torchvision.datasets.MNIST(\n",
        "    root=image_path,train=True,transform=transform,download=True\n",
        ")\n",
        "from torch.utils.data import Subset\n",
        "mnist_valid_dataset = Subset(mnist_dataset,torch.arange(10000))\n",
        "mnist_train_dataset = Subset(mnist_dataset,torch.arange(10000,len(mnist_dataset)))\n",
        "mnist_test_dataset = torchvision.datasets.MNIST(\n",
        "    root=image_path,train=False,transform=transform,download=False\n",
        ")"
      ]
    },
    {
      "cell_type": "code",
      "source": [
        "#visualizamos algunas muestras del dataset\n",
        "import matplotlib.pyplot as plt\n",
        "fig = plt.figure(figsize=(12,4))\n",
        "for i in range(3):\n",
        "  eje = fig.add_subplot(1,3,i+1)\n",
        "  eje.set_xticks([])\n",
        "  eje.set_yticks([])\n",
        "  img = mnist_train_dataset[i][0][0,:,:]\n",
        "  eje.imshow(img,cmap='gray_r')\n",
        "plt.show()"
      ],
      "metadata": {
        "colab": {
          "base_uri": "https://localhost:8080/",
          "height": 310
        },
        "id": "tVI38nZmfF26",
        "outputId": "1ab331e6-0592-4944-a43c-619c35b980fd"
      },
      "execution_count": null,
      "outputs": [
        {
          "output_type": "display_data",
          "data": {
            "text/plain": [
              "<Figure size 1200x400 with 3 Axes>"
            ],
            "image/png": "[encoded data removed]"
          },
          "metadata": {}
        }
      ]
    },
    {
      "cell_type": "code",
      "source": [
        "from torch.utils.data import DataLoader\n",
        "batch_size = 1\n",
        "torch.manual_seed(1)\n",
        "train_dl = DataLoader(mnist_train_dataset,batch_size,shuffle=True)\n",
        "valid_dl = DataLoader(mnist_valid_dataset,batch_size,shuffle=False)"
      ],
      "metadata": {
        "id": "-Oo5kAdE7V7x"
      },
      "execution_count": null,
      "outputs": []
    },
    {
      "cell_type": "code",
      "source": [
        "loss=nn.MSELoss()\n",
        "for x,y in train_dl:\n",
        "  print(x)\n",
        "  print(model(x))\n",
        "  print(y)\n",
        "  print(loss(model(x),y))\n",
        "  break"
      ],
      "metadata": {
        "colab": {
          "base_uri": "https://localhost:8080/"
        },
        "id": "qx9Lw9OomPFi",
        "outputId": "3e0ac098-8b7e-4e4d-98b1-09deba5f3b60"
      },
      "execution_count": null,
      "outputs": [
        {
          "output_type": "stream",
          "name": "stdout",
          "text": [
            "tensor([[[[0.0000, 0.0000, 0.0000, 0.0000, 0.0000, 0.0000, 0.0000, 0.0000,\n",
            "           0.0000, 0.0000, 0.0000, 0.0000, 0.0000, 0.0000, 0.0000, 0.0000,\n",
            "           0.0000, 0.0000, 0.0000, 0.0000, 0.0000, 0.0000, 0.0000, 0.0000,\n",
            "           0.0000, 0.0000, 0.0000, 0.0000],\n",
            "          [0.0000, 0.0000, 0.0000, 0.0000, 0.0000, 0.0000, 0.0000, 0.0000,\n",
            "           0.0000, 0.0000, 0.0000, 0.0000, 0.0000, 0.0000, 0.0000, 0.0000,\n",
            "           0.0000, 0.0000, 0.0000, 0.0000, 0.0000, 0.0000, 0.0000, 0.0000,\n",
            "           0.0000, 0.0000, 0.0000, 0.0000],\n",
            "          [0.0000, 0.0000, 0.0000, 0.0000, 0.0000, 0.0000, 0.0000, 0.0000,\n",
            "           0.0000, 0.0000, 0.0000, 0.0000, 0.0000, 0.0000, 0.0000, 0.0000,\n",
            "           0.0000, 0.0000, 0.0000, 0.0000, 0.0000, 0.0000, 0.0000, 0.0000,\n",
            "           0.0000, 0.0000, 0.0000, 0.0000],\n",
            "          [0.0000, 0.0000, 0.0000, 0.0000, 0.0000, 0.0000, 0.0000, 0.0000,\n",
            "           0.0000, 0.0000, 0.0000, 0.0000, 0.0000, 0.0000, 0.0000, 0.0000,\n",
            "           0.0000, 0.0000, 0.0000, 0.0000, 0.0000, 0.0000, 0.0000, 0.0000,\n",
            "           0.0000, 0.0000, 0.0000, 0.0000],\n",
            "          [0.0000, 0.0000, 0.0000, 0.0000, 0.0000, 0.0000, 0.0000, 0.0000,\n",
            "           0.0000, 0.0000, 0.0000, 0.0000, 0.0000, 0.0000, 0.0000, 0.0000,\n",
            "           0.0000, 0.0000, 0.0000, 0.0000, 0.0000, 0.0000, 0.0000, 0.0000,\n",
            "           0.0000, 0.0000, 0.0000, 0.0000],\n",
            "          [0.0000, 0.0000, 0.0000, 0.0000, 0.0000, 0.0000, 0.0000, 0.0000,\n",
            "           0.0000, 0.0000, 0.0000, 0.0000, 0.0000, 0.0000, 0.0000, 0.0000,\n",
            "           0.0000, 0.0000, 0.0000, 0.0000, 0.0000, 0.0000, 0.0000, 0.0000,\n",
            "           0.0000, 0.0000, 0.0000, 0.0000],\n",
            "          [0.0000, 0.0000, 0.0000, 0.0000, 0.0000, 0.0000, 0.0000, 0.0000,\n",
            "           0.7765, 0.7961, 0.2980, 0.0000, 0.0000, 0.0000, 0.0000, 0.0000,\n",
            "           0.0000, 0.0000, 0.0000, 0.0000, 0.0000, 0.0000, 0.0000, 0.0000,\n",
            "           0.0000, 0.0000, 0.0000, 0.0000],\n",
            "          [0.0000, 0.0000, 0.0000, 0.0000, 0.0000, 0.0000, 0.0000, 0.0000,\n",
            "           0.7725, 0.9882, 0.9059, 0.0745, 0.0000, 0.0000, 0.0000, 0.0000,\n",
            "           0.0000, 0.0000, 0.0000, 0.0000, 0.0000, 0.0000, 0.0000, 0.0000,\n",
            "           0.0000, 0.0000, 0.0000, 0.0000],\n",
            "          [0.0000, 0.0000, 0.0000, 0.0000, 0.0000, 0.0000, 0.0000, 0.0000,\n",
            "           0.3176, 0.9529, 0.9922, 0.8431, 0.4314, 0.0392, 0.0000, 0.0000,\n",
            "           0.0000, 0.1490, 0.3333, 0.3333, 0.3333, 0.3333, 0.0000, 0.0000,\n",
            "           0.0000, 0.0000, 0.0000, 0.0000],\n",
            "          [0.0000, 0.0000, 0.0000, 0.0000, 0.0000, 0.0000, 0.0000, 0.0000,\n",
            "           0.1490, 0.9294, 0.9922, 0.9882, 0.9882, 0.8941, 0.8863, 0.8824,\n",
            "           0.8824, 0.9294, 0.9922, 0.9882, 0.9882, 0.9882, 0.8392, 0.1490,\n",
            "           0.0000, 0.0000, 0.0000, 0.0000],\n",
            "          [0.0000, 0.0000, 0.0000, 0.0000, 0.0000, 0.0000, 0.0000, 0.0000,\n",
            "           0.3373, 0.9922, 1.0000, 0.9176, 0.9686, 0.9922, 0.9961, 0.9922,\n",
            "           0.9922, 0.9922, 0.9961, 0.9922, 0.9922, 0.9922, 0.9961, 0.7725,\n",
            "           0.0000, 0.0000, 0.0000, 0.0000],\n",
            "          [0.0000, 0.0000, 0.0000, 0.0000, 0.0000, 0.0000, 0.0000, 0.0000,\n",
            "           0.1098, 0.9176, 0.9922, 0.3294, 0.2588, 0.3294, 0.3294, 0.3294,\n",
            "           0.3294, 0.4275, 0.9922, 0.9882, 0.9882, 0.9882, 0.9686, 0.4039,\n",
            "           0.0000, 0.0000, 0.0000, 0.0000],\n",
            "          [0.0000, 0.0000, 0.0000, 0.0000, 0.0000, 0.0000, 0.0000, 0.0000,\n",
            "           0.0000, 0.7333, 0.9059, 0.0745, 0.0000, 0.0000, 0.0000, 0.0000,\n",
            "           0.2627, 0.8235, 0.9922, 0.9882, 0.8784, 0.4627, 0.1961, 0.0000,\n",
            "           0.0000, 0.0000, 0.0000, 0.0000],\n",
            "          [0.0000, 0.0000, 0.0000, 0.0000, 0.0000, 0.0000, 0.0000, 0.0000,\n",
            "           0.0000, 0.0510, 0.0980, 0.0000, 0.0000, 0.0000, 0.0000, 0.1020,\n",
            "           0.8706, 0.9882, 0.9451, 0.4510, 0.0745, 0.0000, 0.0000, 0.0000,\n",
            "           0.0000, 0.0000, 0.0000, 0.0000],\n",
            "          [0.0000, 0.0000, 0.0000, 0.0000, 0.0000, 0.0000, 0.0000, 0.0000,\n",
            "           0.0000, 0.0000, 0.0000, 0.0000, 0.0000, 0.0000, 0.1608, 0.9922,\n",
            "           0.9922, 0.7451, 0.2000, 0.0000, 0.0000, 0.0000, 0.0000, 0.0000,\n",
            "           0.0000, 0.0000, 0.0000, 0.0000],\n",
            "          [0.0000, 0.0000, 0.0000, 0.0000, 0.0000, 0.0000, 0.0000, 0.0000,\n",
            "           0.0000, 0.0000, 0.0000, 0.0000, 0.0000, 0.0000, 0.8471, 0.9882,\n",
            "           0.9137, 0.2314, 0.0000, 0.0000, 0.0000, 0.0000, 0.0000, 0.0000,\n",
            "           0.0000, 0.0000, 0.0000, 0.0000],\n",
            "          [0.0000, 0.0000, 0.0000, 0.0000, 0.0000, 0.0000, 0.0000, 0.0000,\n",
            "           0.0000, 0.0000, 0.0000, 0.0000, 0.0000, 0.3490, 0.9922, 0.9882,\n",
            "           0.3137, 0.0000, 0.0000, 0.0000, 0.0000, 0.0000, 0.0000, 0.0000,\n",
            "           0.0000, 0.0000, 0.0000, 0.0000],\n",
            "          [0.0000, 0.0000, 0.0000, 0.0000, 0.0000, 0.0000, 0.0000, 0.0000,\n",
            "           0.0000, 0.0000, 0.0000, 0.0000, 0.0000, 0.6392, 0.9922, 0.9882,\n",
            "           0.2196, 0.0000, 0.0000, 0.0000, 0.0000, 0.0000, 0.0000, 0.0000,\n",
            "           0.0000, 0.0000, 0.0000, 0.0000],\n",
            "          [0.0000, 0.0000, 0.0000, 0.0000, 0.0000, 0.0000, 0.0000, 0.0000,\n",
            "           0.0000, 0.0000, 0.0000, 0.0000, 0.1882, 0.9451, 0.9961, 0.7216,\n",
            "           0.0000, 0.0000, 0.0000, 0.0000, 0.0000, 0.0000, 0.0000, 0.0000,\n",
            "           0.0000, 0.0000, 0.0000, 0.0000],\n",
            "          [0.0000, 0.0000, 0.0000, 0.0000, 0.0000, 0.0000, 0.0000, 0.0000,\n",
            "           0.0000, 0.0000, 0.0000, 0.0000, 0.6275, 0.9882, 0.9686, 0.2549,\n",
            "           0.0000, 0.0000, 0.0000, 0.0000, 0.0000, 0.0000, 0.0000, 0.0000,\n",
            "           0.0000, 0.0000, 0.0000, 0.0000],\n",
            "          [0.0000, 0.0000, 0.0000, 0.0000, 0.0000, 0.0000, 0.0000, 0.0000,\n",
            "           0.0000, 0.0000, 0.0000, 0.0000, 0.7725, 0.9882, 0.8824, 0.0000,\n",
            "           0.0000, 0.0000, 0.0000, 0.0000, 0.0000, 0.0000, 0.0000, 0.0000,\n",
            "           0.0000, 0.0000, 0.0000, 0.0000],\n",
            "          [0.0000, 0.0000, 0.0000, 0.0000, 0.0000, 0.0000, 0.0000, 0.0000,\n",
            "           0.0000, 0.0000, 0.0000, 0.2000, 0.9647, 0.9882, 0.6863, 0.0000,\n",
            "           0.0000, 0.0000, 0.0000, 0.0000, 0.0000, 0.0000, 0.0000, 0.0000,\n",
            "           0.0000, 0.0000, 0.0000, 0.0000],\n",
            "          [0.0000, 0.0000, 0.0000, 0.0000, 0.0000, 0.0000, 0.0000, 0.0000,\n",
            "           0.0000, 0.0000, 0.0627, 0.8471, 0.9922, 0.9922, 0.4471, 0.0000,\n",
            "           0.0000, 0.0000, 0.0000, 0.0000, 0.0000, 0.0000, 0.0000, 0.0000,\n",
            "           0.0000, 0.0000, 0.0000, 0.0000],\n",
            "          [0.0000, 0.0000, 0.0000, 0.0000, 0.0000, 0.0000, 0.0000, 0.0000,\n",
            "           0.0000, 0.0000, 0.4078, 0.9882, 0.9882, 0.8902, 0.1490, 0.0000,\n",
            "           0.0000, 0.0000, 0.0000, 0.0000, 0.0000, 0.0000, 0.0000, 0.0000,\n",
            "           0.0000, 0.0000, 0.0000, 0.0000],\n",
            "          [0.0000, 0.0000, 0.0000, 0.0000, 0.0000, 0.0000, 0.0000, 0.0000,\n",
            "           0.0000, 0.0000, 0.8980, 0.9882, 0.9882, 0.5451, 0.0000, 0.0000,\n",
            "           0.0000, 0.0000, 0.0000, 0.0000, 0.0000, 0.0000, 0.0000, 0.0000,\n",
            "           0.0000, 0.0000, 0.0000, 0.0000],\n",
            "          [0.0000, 0.0000, 0.0000, 0.0000, 0.0000, 0.0000, 0.0000, 0.0000,\n",
            "           0.0000, 0.0000, 0.6000, 0.9882, 0.6431, 0.1098, 0.0000, 0.0000,\n",
            "           0.0000, 0.0000, 0.0000, 0.0000, 0.0000, 0.0000, 0.0000, 0.0000,\n",
            "           0.0000, 0.0000, 0.0000, 0.0000],\n",
            "          [0.0000, 0.0000, 0.0000, 0.0000, 0.0000, 0.0000, 0.0000, 0.0000,\n",
            "           0.0000, 0.0000, 0.0000, 0.0000, 0.0000, 0.0000, 0.0000, 0.0000,\n",
            "           0.0000, 0.0000, 0.0000, 0.0000, 0.0000, 0.0000, 0.0000, 0.0000,\n",
            "           0.0000, 0.0000, 0.0000, 0.0000],\n",
            "          [0.0000, 0.0000, 0.0000, 0.0000, 0.0000, 0.0000, 0.0000, 0.0000,\n",
            "           0.0000, 0.0000, 0.0000, 0.0000, 0.0000, 0.0000, 0.0000, 0.0000,\n",
            "           0.0000, 0.0000, 0.0000, 0.0000, 0.0000, 0.0000, 0.0000, 0.0000,\n",
            "           0.0000, 0.0000, 0.0000, 0.0000]]]])\n",
            "tensor([[-2.5615, -1.5870, -2.4696, -2.8331, -8.2946, -1.2762, -8.3597,  6.7715,\n",
            "          1.1827,  3.2798]], grad_fn=<AddmmBackward0>)\n",
            "tensor([7])\n",
            "tensor(84.6974, grad_fn=<MseLossBackward0>)\n"
          ]
        },
        {
          "output_type": "stream",
          "name": "stderr",
          "text": [
            "/usr/local/lib/python3.10/dist-packages/torch/nn/modules/loss.py:535: UserWarning: Using a target size (torch.Size([1])) that is different to the input size (torch.Size([1, 10])). This will likely lead to incorrect results due to broadcasting. Please ensure they have the same size.\n",
            "  return F.mse_loss(input, target, reduction=self.reduction)\n"
          ]
        }
      ]
    },
    {
      "cell_type": "code",
      "source": [
        "import torch.nn as nn\n",
        "\n",
        "model = nn.Sequential()\n",
        "model.add_module(\n",
        "    'conv1',\n",
        "    nn.Conv2d(\n",
        "        in_channels=1,out_channels=16,\n",
        "        kernel_size=5,padding=2\n",
        "    )\n",
        ")\n",
        "model.add_module('relu1',nn.ReLU())\n",
        "#en la capa pool kernel_size=2 y por default stride=2\n",
        "model.add_module('pool1',nn.MaxPool2d(kernel_size=2))\n",
        "model.add_module(\n",
        "    'conv2',\n",
        "    nn.Conv2d(\n",
        "        in_channels=16,out_channels=32,\n",
        "        kernel_size=5,padding=2\n",
        "    )\n",
        ")\n",
        "model.add_module('relu2',nn.ReLU())\n",
        "model.add_module('pool2',nn.MaxPool2d(kernel_size=2))\n",
        "model.add_module('flatten',nn.Flatten())\n",
        "x=torch.ones((4,1,28,28))\n",
        "model(x).shape"
      ],
      "metadata": {
        "colab": {
          "base_uri": "https://localhost:8080/"
        },
        "id": "L-m1fprgk_O0",
        "outputId": "acc06aba-d75b-4ef8-dd64-b1708803c7b3"
      },
      "execution_count": null,
      "outputs": [
        {
          "output_type": "execute_result",
          "data": {
            "text/plain": [
              "torch.Size([4, 1568])"
            ]
          },
          "metadata": {},
          "execution_count": 11
        }
      ]
    },
    {
      "cell_type": "code",
      "source": [
        "\n",
        "model.add_module('fc1',nn.Linear(1568,512))\n",
        "model.add_module('relu3',nn.ReLU())\n",
        "model.add_module('dropout',nn.Dropout(p=0.5))\n",
        "model.add_module('fc2',nn.Linear(512,10))\n",
        "\n",
        "loss_fn = nn.CrossEntropyLoss()\n",
        "optimizer = torch.optim.Adam(model.parameters(),lr=0.001)\n",
        "\n",
        "def train(model, num_epochs,train_dl,valid_dl):\n",
        "  loss_hist_train = [0 for i in range(num_epochs)]\n",
        "  accuracy_hist_train = [0 for i in range(num_epochs)]\n",
        "  loss_hist_valid = [0 for i in range(num_epochs)]\n",
        "  accuracy_hist_valid = [0 for i in range(num_epochs)]\n",
        "  for epoch in range(num_epochs):\n",
        "    model.train()\n",
        "    for x_batch,y_batch in train_dl:\n",
        "      pred = model(x_batch)\n",
        "      loss = loss_fn(pred,y_batch)\n",
        "      loss.backward()\n",
        "      optimizer.step()\n",
        "      optimizer.zero_grad()\n",
        "      loss_hist_train[epoch] += loss.item()*y_batch.size(0)\n",
        "      is_correct = (torch.argmax(pred,dim=1)==y_batch).float()\n",
        "      print(is_correct)\n",
        "      accuracy_hist_train[epoch] += is_correct.sum()\n",
        "    loss_hist_train[epoch] /= len(train_dl.dataset)\n",
        "    accuracy_hist_train[epoch] /= len(train_dl.dataset)\n",
        "\n",
        "    model.eval()\n",
        "    with torch.no_grad():\n",
        "      for x_batch,y_batch in valid_dl:\n",
        "        pred = model(x_batch)\n",
        "        loss = loss_fn(pred,y_batch)\n",
        "        loss_hist_valid[epoch] += loss.item()*y_batch.size(0)\n",
        "        is_correct = (torch.argmax(pred,dim=1)==y_batch).float()\n",
        "        accuracy_hist_valid[epoch] += is_correct.sum()\n",
        "    loss_hist_valid[epoch] /= len(valid_dl.dataset)\n",
        "    accuracy_hist_valid[epoch] /= len(valid_dl.dataset)\n",
        "\n",
        "    print(f'Epoch {epoch+1} accuracy: '\n",
        "          f'{accuracy_hist_train[epoch]:.4f} val_accuracy: '\n",
        "          f'{accuracy_hist_valid[epoch]:.4f}')\n",
        "  return loss_hist_train,loss_hist_valid,accuracy_hist_train,accuracy_hist_valid\n",
        "\n",
        "\n"
      ],
      "metadata": {
        "id": "0yLVxnqc8myE"
      },
      "execution_count": null,
      "outputs": []
    },
    {
      "cell_type": "code",
      "source": [],
      "metadata": {
        "id": "16i4fmOsk3nG"
      },
      "execution_count": null,
      "outputs": []
    },
    {
      "cell_type": "code",
      "source": [
        "torch.manual_seed(1)\n",
        "num_epochs = 20\n",
        "hist = train(model,num_epochs,train_dl,valid_dl)"
      ],
      "metadata": {
        "colab": {
          "base_uri": "https://localhost:8080/",
          "height": 1000
        },
        "id": "1ZnlnCmAFvq5",
        "outputId": "cab9be74-b1b2-4779-a7d1-f8ed3c541d51"
      },
      "execution_count": null,
      "outputs": [
        {
          "output_type": "stream",
          "name": "stdout",
          "text": [
            "tensor([0.])\n",
            "tensor([0.])\n",
            "tensor([0.])\n",
            "tensor([0.])\n",
            "tensor([0.])\n",
            "tensor([1.])\n",
            "tensor([0.])\n",
            "tensor([0.])\n",
            "tensor([1.])\n",
            "tensor([0.])\n",
            "tensor([1.])\n",
            "tensor([0.])\n",
            "tensor([0.])\n",
            "tensor([0.])\n",
            "tensor([0.])\n",
            "tensor([1.])\n",
            "tensor([0.])\n",
            "tensor([0.])\n",
            "tensor([1.])\n",
            "tensor([0.])\n",
            "tensor([0.])\n",
            "tensor([1.])\n",
            "tensor([0.])\n",
            "tensor([0.])\n",
            "tensor([0.])\n",
            "tensor([0.])\n",
            "tensor([0.])\n",
            "tensor([0.])\n",
            "tensor([1.])\n",
            "tensor([1.])\n",
            "tensor([0.])\n",
            "tensor([0.])\n",
            "tensor([0.])\n",
            "tensor([0.])\n",
            "tensor([0.])\n",
            "tensor([0.])\n",
            "tensor([0.])\n",
            "tensor([0.])\n",
            "tensor([0.])\n",
            "tensor([0.])\n",
            "tensor([0.])\n",
            "tensor([0.])\n",
            "tensor([0.])\n",
            "tensor([1.])\n",
            "tensor([0.])\n",
            "tensor([1.])\n",
            "tensor([1.])\n",
            "tensor([1.])\n",
            "tensor([1.])\n",
            "tensor([1.])\n",
            "tensor([1.])\n",
            "tensor([1.])\n",
            "tensor([1.])\n",
            "tensor([1.])\n",
            "tensor([1.])\n",
            "tensor([1.])\n",
            "tensor([1.])\n",
            "tensor([1.])\n",
            "tensor([1.])\n",
            "tensor([0.])\n",
            "tensor([1.])\n",
            "tensor([1.])\n",
            "tensor([0.])\n",
            "tensor([1.])\n",
            "tensor([0.])\n",
            "tensor([1.])\n",
            "tensor([1.])\n",
            "tensor([0.])\n",
            "tensor([1.])\n",
            "tensor([0.])\n",
            "tensor([1.])\n",
            "tensor([1.])\n",
            "tensor([1.])\n",
            "tensor([1.])\n",
            "tensor([0.])\n",
            "tensor([1.])\n",
            "tensor([1.])\n",
            "tensor([1.])\n",
            "tensor([1.])\n",
            "tensor([1.])\n",
            "tensor([1.])\n",
            "tensor([1.])\n",
            "tensor([1.])\n",
            "tensor([0.])\n",
            "tensor([1.])\n",
            "tensor([1.])\n",
            "tensor([1.])\n",
            "tensor([1.])\n",
            "tensor([1.])\n",
            "tensor([0.])\n",
            "tensor([1.])\n",
            "tensor([0.])\n",
            "tensor([1.])\n",
            "tensor([1.])\n",
            "tensor([1.])\n",
            "tensor([1.])\n",
            "tensor([1.])\n",
            "tensor([1.])\n",
            "tensor([1.])\n",
            "tensor([1.])\n",
            "tensor([0.])\n",
            "tensor([1.])\n",
            "tensor([0.])\n",
            "tensor([0.])\n",
            "tensor([1.])\n",
            "tensor([1.])\n",
            "tensor([1.])\n",
            "tensor([0.])\n",
            "tensor([1.])\n",
            "tensor([1.])\n",
            "tensor([0.])\n",
            "tensor([0.])\n",
            "tensor([1.])\n",
            "tensor([1.])\n",
            "tensor([1.])\n",
            "tensor([1.])\n",
            "tensor([1.])\n",
            "tensor([1.])\n",
            "tensor([1.])\n",
            "tensor([1.])\n",
            "tensor([1.])\n",
            "tensor([1.])\n",
            "tensor([1.])\n",
            "tensor([0.])\n",
            "tensor([0.])\n",
            "tensor([1.])\n",
            "tensor([0.])\n",
            "tensor([1.])\n",
            "tensor([0.])\n",
            "tensor([1.])\n",
            "tensor([1.])\n",
            "tensor([1.])\n",
            "tensor([1.])\n",
            "tensor([1.])\n",
            "tensor([0.])\n",
            "tensor([1.])\n",
            "tensor([0.])\n",
            "tensor([0.])\n",
            "tensor([0.])\n",
            "tensor([1.])\n",
            "tensor([1.])\n",
            "tensor([1.])\n",
            "tensor([1.])\n",
            "tensor([1.])\n",
            "tensor([1.])\n",
            "tensor([1.])\n",
            "tensor([1.])\n",
            "tensor([0.])\n",
            "tensor([0.])\n",
            "tensor([0.])\n",
            "tensor([1.])\n",
            "tensor([0.])\n",
            "tensor([1.])\n",
            "tensor([1.])\n",
            "tensor([0.])\n",
            "tensor([1.])\n",
            "tensor([0.])\n",
            "tensor([0.])\n",
            "tensor([0.])\n",
            "tensor([1.])\n",
            "tensor([1.])\n",
            "tensor([0.])\n",
            "tensor([1.])\n",
            "tensor([1.])\n",
            "tensor([1.])\n",
            "tensor([1.])\n",
            "tensor([1.])\n",
            "tensor([0.])\n",
            "tensor([1.])\n",
            "tensor([1.])\n",
            "tensor([0.])\n",
            "tensor([1.])\n",
            "tensor([0.])\n",
            "tensor([1.])\n",
            "tensor([1.])\n",
            "tensor([0.])\n",
            "tensor([1.])\n",
            "tensor([1.])\n",
            "tensor([0.])\n",
            "tensor([1.])\n",
            "tensor([1.])\n",
            "tensor([1.])\n",
            "tensor([1.])\n",
            "tensor([0.])\n",
            "tensor([1.])\n",
            "tensor([1.])\n",
            "tensor([0.])\n",
            "tensor([1.])\n",
            "tensor([1.])\n",
            "tensor([1.])\n",
            "tensor([0.])\n",
            "tensor([1.])\n",
            "tensor([1.])\n",
            "tensor([1.])\n",
            "tensor([0.])\n",
            "tensor([1.])\n",
            "tensor([1.])\n",
            "tensor([1.])\n",
            "tensor([0.])\n",
            "tensor([1.])\n",
            "tensor([1.])\n",
            "tensor([1.])\n",
            "tensor([1.])\n",
            "tensor([1.])\n",
            "tensor([1.])\n",
            "tensor([1.])\n",
            "tensor([1.])\n",
            "tensor([0.])\n",
            "tensor([1.])\n",
            "tensor([0.])\n",
            "tensor([0.])\n",
            "tensor([1.])\n",
            "tensor([1.])\n",
            "tensor([1.])\n",
            "tensor([0.])\n",
            "tensor([0.])\n",
            "tensor([1.])\n",
            "tensor([1.])\n",
            "tensor([1.])\n",
            "tensor([1.])\n",
            "tensor([1.])\n",
            "tensor([1.])\n",
            "tensor([1.])\n",
            "tensor([0.])\n",
            "tensor([1.])\n",
            "tensor([1.])\n",
            "tensor([1.])\n",
            "tensor([1.])\n",
            "tensor([1.])\n",
            "tensor([1.])\n",
            "tensor([1.])\n",
            "tensor([0.])\n",
            "tensor([1.])\n",
            "tensor([1.])\n",
            "tensor([0.])\n",
            "tensor([1.])\n",
            "tensor([1.])\n",
            "tensor([1.])\n",
            "tensor([1.])\n",
            "tensor([0.])\n",
            "tensor([1.])\n",
            "tensor([1.])\n",
            "tensor([1.])\n",
            "tensor([1.])\n",
            "tensor([1.])\n",
            "tensor([1.])\n",
            "tensor([1.])\n",
            "tensor([1.])\n",
            "tensor([1.])\n",
            "tensor([0.])\n",
            "tensor([1.])\n",
            "tensor([1.])\n",
            "tensor([1.])\n",
            "tensor([1.])\n",
            "tensor([1.])\n",
            "tensor([0.])\n",
            "tensor([1.])\n",
            "tensor([1.])\n",
            "tensor([0.])\n",
            "tensor([1.])\n",
            "tensor([1.])\n",
            "tensor([1.])\n",
            "tensor([1.])\n",
            "tensor([1.])\n",
            "tensor([1.])\n",
            "tensor([1.])\n",
            "tensor([1.])\n",
            "tensor([1.])\n",
            "tensor([0.])\n",
            "tensor([1.])\n",
            "tensor([1.])\n",
            "tensor([1.])\n",
            "tensor([1.])\n",
            "tensor([1.])\n",
            "tensor([0.])\n",
            "tensor([1.])\n",
            "tensor([1.])\n",
            "tensor([1.])\n",
            "tensor([1.])\n",
            "tensor([1.])\n",
            "tensor([1.])\n",
            "tensor([1.])\n",
            "tensor([1.])\n",
            "tensor([1.])\n",
            "tensor([1.])\n",
            "tensor([1.])\n",
            "tensor([1.])\n",
            "tensor([1.])\n",
            "tensor([0.])\n",
            "tensor([1.])\n",
            "tensor([0.])\n",
            "tensor([1.])\n",
            "tensor([1.])\n"
          ]
        },
        {
          "output_type": "error",
          "ename": "KeyboardInterrupt",
          "evalue": "",
          "traceback": [
            "\u001b[0;31m---------------------------------------------------------------------------\u001b[0m",
            "\u001b[0;31mKeyboardInterrupt\u001b[0m                         Traceback (most recent call last)",
            "\u001b[0;32m<ipython-input-23-98e5f0eb760e>\u001b[0m in \u001b[0;36m<cell line: 3>\u001b[0;34m()\u001b[0m\n\u001b[1;32m      1\u001b[0m \u001b[0mtorch\u001b[0m\u001b[0;34m.\u001b[0m\u001b[0mmanual_seed\u001b[0m\u001b[0;34m(\u001b[0m\u001b[0;36m1\u001b[0m\u001b[0;34m)\u001b[0m\u001b[0;34m\u001b[0m\u001b[0;34m\u001b[0m\u001b[0m\n\u001b[1;32m      2\u001b[0m \u001b[0mnum_epochs\u001b[0m \u001b[0;34m=\u001b[0m \u001b[0;36m20\u001b[0m\u001b[0;34m\u001b[0m\u001b[0;34m\u001b[0m\u001b[0m\n\u001b[0;32m----> 3\u001b[0;31m \u001b[0mhist\u001b[0m \u001b[0;34m=\u001b[0m \u001b[0mtrain\u001b[0m\u001b[0;34m(\u001b[0m\u001b[0mmodel\u001b[0m\u001b[0;34m,\u001b[0m\u001b[0mnum_epochs\u001b[0m\u001b[0;34m,\u001b[0m\u001b[0mtrain_dl\u001b[0m\u001b[0;34m,\u001b[0m\u001b[0mvalid_dl\u001b[0m\u001b[0;34m)\u001b[0m\u001b[0;34m\u001b[0m\u001b[0;34m\u001b[0m\u001b[0m\n\u001b[0m",
            "\u001b[0;32m<ipython-input-22-5a38dc79ebef>\u001b[0m in \u001b[0;36mtrain\u001b[0;34m(model, num_epochs, train_dl, valid_dl)\u001b[0m\n\u001b[1;32m     18\u001b[0m       \u001b[0mloss\u001b[0m \u001b[0;34m=\u001b[0m \u001b[0mloss_fn\u001b[0m\u001b[0;34m(\u001b[0m\u001b[0mpred\u001b[0m\u001b[0;34m,\u001b[0m\u001b[0my_batch\u001b[0m\u001b[0;34m)\u001b[0m\u001b[0;34m\u001b[0m\u001b[0;34m\u001b[0m\u001b[0m\n\u001b[1;32m     19\u001b[0m       \u001b[0mloss\u001b[0m\u001b[0;34m.\u001b[0m\u001b[0mbackward\u001b[0m\u001b[0;34m(\u001b[0m\u001b[0;34m)\u001b[0m\u001b[0;34m\u001b[0m\u001b[0;34m\u001b[0m\u001b[0m\n\u001b[0;32m---> 20\u001b[0;31m       \u001b[0moptimizer\u001b[0m\u001b[0;34m.\u001b[0m\u001b[0mstep\u001b[0m\u001b[0;34m(\u001b[0m\u001b[0;34m)\u001b[0m\u001b[0;34m\u001b[0m\u001b[0;34m\u001b[0m\u001b[0m\n\u001b[0m\u001b[1;32m     21\u001b[0m       \u001b[0moptimizer\u001b[0m\u001b[0;34m.\u001b[0m\u001b[0mzero_grad\u001b[0m\u001b[0;34m(\u001b[0m\u001b[0;34m)\u001b[0m\u001b[0;34m\u001b[0m\u001b[0;34m\u001b[0m\u001b[0m\n\u001b[1;32m     22\u001b[0m       \u001b[0mloss_hist_train\u001b[0m\u001b[0;34m[\u001b[0m\u001b[0mepoch\u001b[0m\u001b[0;34m]\u001b[0m \u001b[0;34m+=\u001b[0m \u001b[0mloss\u001b[0m\u001b[0;34m.\u001b[0m\u001b[0mitem\u001b[0m\u001b[0;34m(\u001b[0m\u001b[0;34m)\u001b[0m\u001b[0;34m*\u001b[0m\u001b[0my_batch\u001b[0m\u001b[0;34m.\u001b[0m\u001b[0msize\u001b[0m\u001b[0;34m(\u001b[0m\u001b[0;36m0\u001b[0m\u001b[0;34m)\u001b[0m\u001b[0;34m\u001b[0m\u001b[0;34m\u001b[0m\u001b[0m\n",
            "\u001b[0;32m/usr/local/lib/python3.10/dist-packages/torch/optim/optimizer.py\u001b[0m in \u001b[0;36mwrapper\u001b[0;34m(*args, **kwargs)\u001b[0m\n\u001b[1;32m    383\u001b[0m                             )\n\u001b[1;32m    384\u001b[0m \u001b[0;34m\u001b[0m\u001b[0m\n\u001b[0;32m--> 385\u001b[0;31m                 \u001b[0mout\u001b[0m \u001b[0;34m=\u001b[0m \u001b[0mfunc\u001b[0m\u001b[0;34m(\u001b[0m\u001b[0;34m*\u001b[0m\u001b[0margs\u001b[0m\u001b[0;34m,\u001b[0m \u001b[0;34m**\u001b[0m\u001b[0mkwargs\u001b[0m\u001b[0;34m)\u001b[0m\u001b[0;34m\u001b[0m\u001b[0;34m\u001b[0m\u001b[0m\n\u001b[0m\u001b[1;32m    386\u001b[0m                 \u001b[0mself\u001b[0m\u001b[0;34m.\u001b[0m\u001b[0m_optimizer_step_code\u001b[0m\u001b[0;34m(\u001b[0m\u001b[0;34m)\u001b[0m\u001b[0;34m\u001b[0m\u001b[0;34m\u001b[0m\u001b[0m\n\u001b[1;32m    387\u001b[0m \u001b[0;34m\u001b[0m\u001b[0m\n",
            "\u001b[0;32m/usr/local/lib/python3.10/dist-packages/torch/optim/optimizer.py\u001b[0m in \u001b[0;36m_use_grad\u001b[0;34m(self, *args, **kwargs)\u001b[0m\n\u001b[1;32m     74\u001b[0m             \u001b[0mtorch\u001b[0m\u001b[0;34m.\u001b[0m\u001b[0mset_grad_enabled\u001b[0m\u001b[0;34m(\u001b[0m\u001b[0mself\u001b[0m\u001b[0;34m.\u001b[0m\u001b[0mdefaults\u001b[0m\u001b[0;34m[\u001b[0m\u001b[0;34m'differentiable'\u001b[0m\u001b[0;34m]\u001b[0m\u001b[0;34m)\u001b[0m\u001b[0;34m\u001b[0m\u001b[0;34m\u001b[0m\u001b[0m\n\u001b[1;32m     75\u001b[0m             \u001b[0mtorch\u001b[0m\u001b[0;34m.\u001b[0m\u001b[0m_dynamo\u001b[0m\u001b[0;34m.\u001b[0m\u001b[0mgraph_break\u001b[0m\u001b[0;34m(\u001b[0m\u001b[0;34m)\u001b[0m\u001b[0;34m\u001b[0m\u001b[0;34m\u001b[0m\u001b[0m\n\u001b[0;32m---> 76\u001b[0;31m             \u001b[0mret\u001b[0m \u001b[0;34m=\u001b[0m \u001b[0mfunc\u001b[0m\u001b[0;34m(\u001b[0m\u001b[0mself\u001b[0m\u001b[0;34m,\u001b[0m \u001b[0;34m*\u001b[0m\u001b[0margs\u001b[0m\u001b[0;34m,\u001b[0m \u001b[0;34m**\u001b[0m\u001b[0mkwargs\u001b[0m\u001b[0;34m)\u001b[0m\u001b[0;34m\u001b[0m\u001b[0;34m\u001b[0m\u001b[0m\n\u001b[0m\u001b[1;32m     77\u001b[0m         \u001b[0;32mfinally\u001b[0m\u001b[0;34m:\u001b[0m\u001b[0;34m\u001b[0m\u001b[0;34m\u001b[0m\u001b[0m\n\u001b[1;32m     78\u001b[0m             \u001b[0mtorch\u001b[0m\u001b[0;34m.\u001b[0m\u001b[0m_dynamo\u001b[0m\u001b[0;34m.\u001b[0m\u001b[0mgraph_break\u001b[0m\u001b[0;34m(\u001b[0m\u001b[0;34m)\u001b[0m\u001b[0;34m\u001b[0m\u001b[0;34m\u001b[0m\u001b[0m\n",
            "\u001b[0;32m/usr/local/lib/python3.10/dist-packages/torch/optim/adam.py\u001b[0m in \u001b[0;36mstep\u001b[0;34m(self, closure)\u001b[0m\n\u001b[1;32m    164\u001b[0m                 state_steps)\n\u001b[1;32m    165\u001b[0m \u001b[0;34m\u001b[0m\u001b[0m\n\u001b[0;32m--> 166\u001b[0;31m             adam(\n\u001b[0m\u001b[1;32m    167\u001b[0m                 \u001b[0mparams_with_grad\u001b[0m\u001b[0;34m,\u001b[0m\u001b[0;34m\u001b[0m\u001b[0;34m\u001b[0m\u001b[0m\n\u001b[1;32m    168\u001b[0m                 \u001b[0mgrads\u001b[0m\u001b[0;34m,\u001b[0m\u001b[0;34m\u001b[0m\u001b[0;34m\u001b[0m\u001b[0m\n",
            "\u001b[0;32m/usr/local/lib/python3.10/dist-packages/torch/optim/adam.py\u001b[0m in \u001b[0;36madam\u001b[0;34m(params, grads, exp_avgs, exp_avg_sqs, max_exp_avg_sqs, state_steps, foreach, capturable, differentiable, fused, grad_scale, found_inf, has_complex, amsgrad, beta1, beta2, lr, weight_decay, eps, maximize)\u001b[0m\n\u001b[1;32m    314\u001b[0m         \u001b[0mfunc\u001b[0m \u001b[0;34m=\u001b[0m \u001b[0m_single_tensor_adam\u001b[0m\u001b[0;34m\u001b[0m\u001b[0;34m\u001b[0m\u001b[0m\n\u001b[1;32m    315\u001b[0m \u001b[0;34m\u001b[0m\u001b[0m\n\u001b[0;32m--> 316\u001b[0;31m     func(params,\n\u001b[0m\u001b[1;32m    317\u001b[0m          \u001b[0mgrads\u001b[0m\u001b[0;34m,\u001b[0m\u001b[0;34m\u001b[0m\u001b[0;34m\u001b[0m\u001b[0m\n\u001b[1;32m    318\u001b[0m          \u001b[0mexp_avgs\u001b[0m\u001b[0;34m,\u001b[0m\u001b[0;34m\u001b[0m\u001b[0;34m\u001b[0m\u001b[0m\n",
            "\u001b[0;32m/usr/local/lib/python3.10/dist-packages/torch/optim/adam.py\u001b[0m in \u001b[0;36m_single_tensor_adam\u001b[0;34m(params, grads, exp_avgs, exp_avg_sqs, max_exp_avg_sqs, state_steps, grad_scale, found_inf, amsgrad, has_complex, beta1, beta2, lr, weight_decay, eps, maximize, capturable, differentiable)\u001b[0m\n\u001b[1;32m    437\u001b[0m                 \u001b[0mdenom\u001b[0m \u001b[0;34m=\u001b[0m \u001b[0;34m(\u001b[0m\u001b[0mmax_exp_avg_sqs\u001b[0m\u001b[0;34m[\u001b[0m\u001b[0mi\u001b[0m\u001b[0;34m]\u001b[0m\u001b[0;34m.\u001b[0m\u001b[0msqrt\u001b[0m\u001b[0;34m(\u001b[0m\u001b[0;34m)\u001b[0m \u001b[0;34m/\u001b[0m \u001b[0mbias_correction2_sqrt\u001b[0m\u001b[0;34m)\u001b[0m\u001b[0;34m.\u001b[0m\u001b[0madd_\u001b[0m\u001b[0;34m(\u001b[0m\u001b[0meps\u001b[0m\u001b[0;34m)\u001b[0m\u001b[0;34m\u001b[0m\u001b[0;34m\u001b[0m\u001b[0m\n\u001b[1;32m    438\u001b[0m             \u001b[0;32melse\u001b[0m\u001b[0;34m:\u001b[0m\u001b[0;34m\u001b[0m\u001b[0;34m\u001b[0m\u001b[0m\n\u001b[0;32m--> 439\u001b[0;31m                 \u001b[0mdenom\u001b[0m \u001b[0;34m=\u001b[0m \u001b[0;34m(\u001b[0m\u001b[0mexp_avg_sq\u001b[0m\u001b[0;34m.\u001b[0m\u001b[0msqrt\u001b[0m\u001b[0;34m(\u001b[0m\u001b[0;34m)\u001b[0m \u001b[0;34m/\u001b[0m \u001b[0mbias_correction2_sqrt\u001b[0m\u001b[0;34m)\u001b[0m\u001b[0;34m.\u001b[0m\u001b[0madd_\u001b[0m\u001b[0;34m(\u001b[0m\u001b[0meps\u001b[0m\u001b[0;34m)\u001b[0m\u001b[0;34m\u001b[0m\u001b[0;34m\u001b[0m\u001b[0m\n\u001b[0m\u001b[1;32m    440\u001b[0m \u001b[0;34m\u001b[0m\u001b[0m\n\u001b[1;32m    441\u001b[0m             \u001b[0mparam\u001b[0m\u001b[0;34m.\u001b[0m\u001b[0maddcdiv_\u001b[0m\u001b[0;34m(\u001b[0m\u001b[0mexp_avg\u001b[0m\u001b[0;34m,\u001b[0m \u001b[0mdenom\u001b[0m\u001b[0;34m,\u001b[0m \u001b[0mvalue\u001b[0m\u001b[0;34m=\u001b[0m\u001b[0;34m-\u001b[0m\u001b[0mstep_size\u001b[0m\u001b[0;34m)\u001b[0m\u001b[0;34m\u001b[0m\u001b[0;34m\u001b[0m\u001b[0m\n",
            "\u001b[0;31mKeyboardInterrupt\u001b[0m: "
          ]
        }
      ]
    },
    {
      "cell_type": "code",
      "source": [
        "import numpy as np\n",
        "\n",
        "x_arr = np.arange(len(hist[0]))+1\n",
        "fig = plt.figure(figsize=(12,4))\n",
        "ax = fig.add_subplot(1,2,1)\n",
        "ax.plot(x_arr,hist[0],'-o',color='g',label='Error entrenamiento')\n",
        "ax.plot(x_arr,hist[1],'->',color='b',label='Error validación')\n",
        "ax.legend(fontsize=15)\n",
        "ax = fig.add_subplot(1,2,2)\n",
        "ax.plot(x_arr,hist[2],'-o',color='g',label='Precisión entrenamiento')\n",
        "ax.plot(x_arr,hist[3],'->',color='b',label='Precisión validación')\n",
        "ax.legend(fontsize=15)\n",
        "ax.set_xlabel('Epoch',size=15)\n",
        "ax.set_ylabel('Precisión',size=15)\n",
        "plt.show()\n"
      ],
      "metadata": {
        "colab": {
          "base_uri": "https://localhost:8080/",
          "height": 333
        },
        "id": "H6XqeY7ZGKp3",
        "outputId": "de47c47f-5b58-4af1-dd6c-4374f0420a42"
      },
      "execution_count": null,
      "outputs": [
        {
          "output_type": "display_data",
          "data": {
            "text/plain": [
              "<Figure size 1200x400 with 2 Axes>"
            ],
            "image/png": "[encoded data removed]"
          },
          "metadata": {}
        }
      ]
    },
    {
      "cell_type": "code",
      "source": [
        "pred = model(mnist_test_dataset.data.unsqueeze(1)/255.)\n",
        "is_correct = (torch.argmax(pred,dim=1) == mnist_test_dataset.targets).float()\n",
        "print(f'Test accuracy: {is_correct.mean():.4f}')\n"
      ],
      "metadata": {
        "colab": {
          "base_uri": "https://localhost:8080/"
        },
        "id": "Xw2UClneJ58b",
        "outputId": "77adbcdd-bd58-40ce-adce-16ef003d26cf"
      },
      "execution_count": null,
      "outputs": [
        {
          "output_type": "stream",
          "name": "stdout",
          "text": [
            "Test accuracy: 0.9937\n"
          ]
        }
      ]
    },
    {
      "cell_type": "code",
      "source": [
        "fig = plt.figure(figsize=(12,4))\n",
        "for i in range(12):\n",
        "  ax = fig.add_subplot(2,6,i+1)\n",
        "  ax.set_xticks([]);ax.set_yticks([])\n",
        "  img = mnist_test_dataset[i][0][0,:,:]\n",
        "  pred = model(img.unsqueeze(0).unsqueeze(1))\n",
        "  y_pred = torch.argmax(pred)\n",
        "  ax.imshow(img,cmap='gray_r')\n",
        "  ax.text(0.9,0.1,y_pred.item(),\n",
        "          size=15,color='blue',\n",
        "          horizontalalignment='center',\n",
        "          verticalalignment='center',\n",
        "          transform=ax.transAxes)\n",
        "plt.show()"
      ],
      "metadata": {
        "colab": {
          "base_uri": "https://localhost:8080/",
          "height": 298
        },
        "id": "hPv5Rte8KfIE",
        "outputId": "3dad4433-4087-433c-b0d2-fd390fbcc84b"
      },
      "execution_count": null,
      "outputs": [
        {
          "output_type": "display_data",
          "data": {
            "text/plain": [
              "<Figure size 1200x400 with 12 Axes>"
            ],
            "image/png": "[encoded data removed]"
          },
          "metadata": {}
        }
      ]
    }
  ]
}